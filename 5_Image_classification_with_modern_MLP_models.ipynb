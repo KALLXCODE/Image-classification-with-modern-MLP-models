{
  "cells": [
    {
      "cell_type": "markdown",
      "metadata": {
        "id": "view-in-github",
        "colab_type": "text"
      },
      "source": [
        "<a href=\"https://colab.research.google.com/github/KALLXCODE/Image-classification-with-modern-MLP-models/blob/main/5_Image_classification_with_modern_MLP_models.ipynb\" target=\"_parent\"><img src=\"https://colab.research.google.com/assets/colab-badge.svg\" alt=\"Open In Colab\"/></a>"
      ]
    },
    {
      "cell_type": "markdown",
      "metadata": {
        "id": "ky9yflwxwCe3"
      },
      "source": [
        "## Introduction\n",
        "\n",
        "This example implements three modern attention-free, multi-layer perceptron (MLP) based models for image\n",
        "classification, demonstrated on the CIFAR-100 dataset:\n",
        "\n",
        "1. The [MLP-Mixer](https://arxiv.org/abs/2105.01601) model, by Ilya Tolstikhin et al., based on two types of MLPs.\n",
        "3. The [FNet](https://arxiv.org/abs/2105.03824) model, by James Lee-Thorp et al., based on unparameterized\n",
        "Fourier Transform.\n",
        "2. The [gMLP](https://arxiv.org/abs/2105.08050) model, by Hanxiao Liu et al., based on MLP with gating.\n",
        "\n",
        "The purpose of the example is not to compare between these models, as they might perform differently on\n",
        "different datasets with well-tuned hyperparameters. Rather, it is to show simple implementations of their\n",
        "main building blocks.\n",
        "\n",
        "This example requires TensorFlow 2.4 or higher, as well as\n",
        "[TensorFlow Addons](https://www.tensorflow.org/addons/overview),\n",
        "which can be installed using the following command:\n",
        "\n",
        "```shell\n",
        "pip install -U tensorflow-addons\n",
        "```"
      ]
    },
    {
      "cell_type": "markdown",
      "metadata": {
        "id": "FQfvJksnwCe4"
      },
      "source": [
        "## Setup"
      ]
    },
    {
      "cell_type": "code",
      "execution_count": null,
      "metadata": {
        "id": "jM32mPKowCe4",
        "colab": {
          "base_uri": "https://localhost:8080/"
        },
        "outputId": "4f20e2f5-79ae-4ab9-9c4f-aa2d08e5f6b8"
      },
      "outputs": [
        {
          "output_type": "stream",
          "name": "stdout",
          "text": [
            "Looking in indexes: https://pypi.org/simple, https://us-python.pkg.dev/colab-wheels/public/simple/\n",
            "Collecting tensorflow-addons\n",
            "  Downloading tensorflow_addons-0.20.0-cp39-cp39-manylinux_2_17_x86_64.manylinux2014_x86_64.whl (591 kB)\n",
            "\u001b[2K     \u001b[90m━━━━━━━━━━━━━━━━━━━━━━━━━━━━━━━━━━━━━━\u001b[0m \u001b[32m591.0/591.0 kB\u001b[0m \u001b[31m26.8 MB/s\u001b[0m eta \u001b[36m0:00:00\u001b[0m\n",
            "\u001b[?25hRequirement already satisfied: packaging in /usr/local/lib/python3.9/dist-packages (from tensorflow-addons) (23.1)\n",
            "Collecting typeguard<3.0.0,>=2.7\n",
            "  Downloading typeguard-2.13.3-py3-none-any.whl (17 kB)\n",
            "Installing collected packages: typeguard, tensorflow-addons\n",
            "Successfully installed tensorflow-addons-0.20.0 typeguard-2.13.3\n"
          ]
        },
        {
          "output_type": "stream",
          "name": "stderr",
          "text": [
            "/usr/local/lib/python3.9/dist-packages/tensorflow_addons/utils/tfa_eol_msg.py:23: UserWarning: \n",
            "\n",
            "TensorFlow Addons (TFA) has ended development and introduction of new features.\n",
            "TFA has entered a minimal maintenance and release mode until a planned end of life in May 2024.\n",
            "Please modify downstream libraries to take dependencies from other repositories in our TensorFlow community (e.g. Keras, Keras-CV, and Keras-NLP). \n",
            "\n",
            "For more information see: https://github.com/tensorflow/addons/issues/2807 \n",
            "\n",
            "  warnings.warn(\n"
          ]
        }
      ],
      "source": [
        "!pip install -U tensorflow-addons\n",
        "import numpy as np\n",
        "import tensorflow as tf\n",
        "from tensorflow import keras\n",
        "from tensorflow.keras import layers\n",
        "import tensorflow_addons as tfa"
      ]
    },
    {
      "cell_type": "markdown",
      "metadata": {
        "id": "S1uNvSv9wCe5"
      },
      "source": [
        "## Prepare the data"
      ]
    },
    {
      "cell_type": "code",
      "execution_count": null,
      "metadata": {
        "id": "Oe8z5y4GwCe5",
        "colab": {
          "base_uri": "https://localhost:8080/"
        },
        "outputId": "39bf0ceb-b3e4-4d40-89d7-6a8e2e5dbbfa"
      },
      "outputs": [
        {
          "output_type": "stream",
          "name": "stdout",
          "text": [
            "Downloading data from https://www.cs.toronto.edu/~kriz/cifar-100-python.tar.gz\n",
            "169001437/169001437 [==============================] - 16s 0us/step\n",
            "x_train shape: (50000, 32, 32, 3) - y_train shape: (50000, 1)\n",
            "x_test shape: (10000, 32, 32, 3) - y_test shape: (10000, 1)\n"
          ]
        }
      ],
      "source": [
        "num_classes = 100\n",
        "input_shape = (32, 32, 3)\n",
        "\n",
        "(x_train, y_train), (x_test, y_test) = keras.datasets.cifar100.load_data()\n",
        "\n",
        "print(f\"x_train shape: {x_train.shape} - y_train shape: {y_train.shape}\")\n",
        "print(f\"x_test shape: {x_test.shape} - y_test shape: {y_test.shape}\")"
      ]
    },
    {
      "cell_type": "markdown",
      "metadata": {
        "id": "tHkieGMKwCe6"
      },
      "source": [
        "## Configure the hyperparameters"
      ]
    },
    {
      "cell_type": "code",
      "execution_count": null,
      "metadata": {
        "id": "QVjeUckgwCe6",
        "colab": {
          "base_uri": "https://localhost:8080/"
        },
        "outputId": "f375e850-a58f-4378-986e-37bc072cc4be"
      },
      "outputs": [
        {
          "output_type": "stream",
          "name": "stdout",
          "text": [
            "Image size: 64 X 64 = 4096\n",
            "Patch size: 8 X 8 = 64 \n",
            "Patches per image: 64\n",
            "Elements per patch (3 channels): 192\n"
          ]
        }
      ],
      "source": [
        "weight_decay = 0.0001\n",
        "batch_size = 128\n",
        "num_epochs = 10\n",
        "dropout_rate = 0.2\n",
        "image_size = 64  # We'll resize input images to this size.\n",
        "patch_size = 8  # Size of the patches to be extracted from the input images.\n",
        "num_patches = (image_size // patch_size) ** 2  # Size of the data array.\n",
        "embedding_dim = 256  # Number of hidden units.\n",
        "num_blocks = 4  # Number of blocks.\n",
        "\n",
        "print(f\"Image size: {image_size} X {image_size} = {image_size ** 2}\")\n",
        "print(f\"Patch size: {patch_size} X {patch_size} = {patch_size ** 2} \")\n",
        "print(f\"Patches per image: {num_patches}\")\n",
        "print(f\"Elements per patch (3 channels): {(patch_size ** 2) * 3}\")"
      ]
    },
    {
      "cell_type": "markdown",
      "metadata": {
        "id": "2LqaMZ83wCe7"
      },
      "source": [
        "## Build a classification model\n",
        "\n",
        "We implement a method that builds a classifier given the processing blocks."
      ]
    },
    {
      "cell_type": "code",
      "execution_count": null,
      "metadata": {
        "id": "9UMuQPkJwCe7"
      },
      "outputs": [],
      "source": [
        "\n",
        "def build_classifier(blocks, positional_encoding=False):\n",
        "    inputs = layers.Input(shape=input_shape)\n",
        "    # Augment data.\n",
        "    augmented = data_augmentation(inputs)\n",
        "    # Create patches.\n",
        "    patches = Patches(patch_size, num_patches)(augmented)\n",
        "    # Encode patches to generate a [batch_size, num_patches, embedding_dim] tensor.\n",
        "    x = layers.Dense(units=embedding_dim)(patches)\n",
        "    if positional_encoding:\n",
        "        positions = tf.range(start=0, limit=num_patches, delta=1)\n",
        "        position_embedding = layers.Embedding(\n",
        "            input_dim=num_patches, output_dim=embedding_dim\n",
        "        )(positions)\n",
        "        x = x + position_embedding\n",
        "    # Process x using the module blocks.\n",
        "    x = blocks(x)\n",
        "    # Apply global average pooling to generate a [batch_size, embedding_dim] representation tensor.\n",
        "    representation = layers.GlobalAveragePooling1D()(x)\n",
        "    # Apply dropout.\n",
        "    representation = layers.Dropout(rate=dropout_rate)(representation)\n",
        "    # Compute logits outputs.\n",
        "    logits = layers.Dense(num_classes)(representation)\n",
        "    # Create the Keras model.\n",
        "    return keras.Model(inputs=inputs, outputs=logits)\n"
      ]
    },
    {
      "cell_type": "markdown",
      "metadata": {
        "id": "kDE0RJqgwCe8"
      },
      "source": [
        "## Define an experiment\n",
        "\n",
        "We implement a utility function to compile, train, and evaluate a given model."
      ]
    },
    {
      "cell_type": "code",
      "execution_count": null,
      "metadata": {
        "id": "Rc980cF9wCe8"
      },
      "outputs": [],
      "source": [
        "\n",
        "def run_experiment(model):\n",
        "    # Create Adam optimizer with weight decay.\n",
        "    optimizer = tfa.optimizers.AdamW(\n",
        "        learning_rate=learning_rate, weight_decay=weight_decay,\n",
        "    )\n",
        "    # Compile the model.\n",
        "    model.compile(\n",
        "        optimizer=optimizer,\n",
        "        loss=keras.losses.SparseCategoricalCrossentropy(from_logits=True),\n",
        "        metrics=[\n",
        "            keras.metrics.SparseCategoricalAccuracy(name=\"acc\"),\n",
        "            keras.metrics.SparseTopKCategoricalAccuracy(5, name=\"top5-acc\"),\n",
        "        ],\n",
        "    )\n",
        "    # Create a learning rate scheduler callback.\n",
        "    reduce_lr = keras.callbacks.ReduceLROnPlateau(\n",
        "        monitor=\"val_loss\", factor=0.5, patience=5\n",
        "    )\n",
        "    # Create an early stopping callback.\n",
        "    early_stopping = tf.keras.callbacks.EarlyStopping(\n",
        "        monitor=\"val_loss\", patience=10, restore_best_weights=True\n",
        "    )\n",
        "    # Fit the model.\n",
        "    history = model.fit(\n",
        "        x=x_train,\n",
        "        y=y_train,\n",
        "        batch_size=batch_size,\n",
        "        epochs=num_epochs,\n",
        "        validation_split=0.1,\n",
        "        callbacks=[early_stopping, reduce_lr],\n",
        "    )\n",
        "\n",
        "    _, accuracy, top_5_accuracy = model.evaluate(x_test, y_test)\n",
        "    print(f\"Test accuracy: {round(accuracy * 100, 2)}%\")\n",
        "    print(f\"Test top 5 accuracy: {round(top_5_accuracy * 100, 2)}%\")\n",
        "\n",
        "    # Return history to plot learning curves.\n",
        "    return history\n"
      ]
    },
    {
      "cell_type": "markdown",
      "metadata": {
        "id": "1vLmsX_gwCe9"
      },
      "source": [
        "## Use data augmentation"
      ]
    },
    {
      "cell_type": "code",
      "execution_count": null,
      "metadata": {
        "id": "VCX3JR7IwCe9"
      },
      "outputs": [],
      "source": [
        "data_augmentation = keras.Sequential(\n",
        "    [\n",
        "        layers.Normalization(),\n",
        "        layers.Resizing(image_size, image_size),\n",
        "        layers.RandomFlip(\"horizontal\"),\n",
        "        layers.RandomZoom(\n",
        "            height_factor=0.2, width_factor=0.2\n",
        "        ),\n",
        "    ],\n",
        "    name=\"data_augmentation\",\n",
        ")\n",
        "# Compute the mean and the variance of the training data for normalization.\n",
        "data_augmentation.layers[0].adapt(x_train)\n"
      ]
    },
    {
      "cell_type": "markdown",
      "metadata": {
        "id": "4ruv4sXowCe9"
      },
      "source": [
        "## Implement patch extraction as a layer"
      ]
    },
    {
      "cell_type": "code",
      "execution_count": null,
      "metadata": {
        "id": "iwrKb-X3wCe9"
      },
      "outputs": [],
      "source": [
        "\n",
        "class Patches(layers.Layer):\n",
        "    def __init__(self, patch_size, num_patches):\n",
        "        super().__init__()\n",
        "        self.patch_size = patch_size\n",
        "        self.num_patches = num_patches\n",
        "\n",
        "    def call(self, images):\n",
        "        batch_size = tf.shape(images)[0]\n",
        "        patches = tf.image.extract_patches(\n",
        "            images=images,\n",
        "            sizes=[1, self.patch_size, self.patch_size, 1],\n",
        "            strides=[1, self.patch_size, self.patch_size, 1],\n",
        "            rates=[1, 1, 1, 1],\n",
        "            padding=\"VALID\",\n",
        "        )\n",
        "        patch_dims = patches.shape[-1]\n",
        "        patches = tf.reshape(patches, [batch_size, self.num_patches, patch_dims])\n",
        "        return patches\n"
      ]
    },
    {
      "cell_type": "markdown",
      "metadata": {
        "id": "U2u7qFu8wCe-"
      },
      "source": [
        "## The MLP-Mixer model\n",
        "\n",
        "The MLP-Mixer is an architecture based exclusively on\n",
        "multi-layer perceptrons (MLPs), that contains two types of MLP layers:\n",
        "\n",
        "1. One applied independently to image patches, which mixes the per-location features.\n",
        "2. The other applied across patches (along channels), which mixes spatial information.\n",
        "\n",
        "This is similar to a [depthwise separable convolution based model](https://arxiv.org/pdf/1610.02357.pdf)\n",
        "such as the Xception model, but with two chained dense transforms, no max pooling, and layer normalization\n",
        "instead of batch normalization."
      ]
    },
    {
      "cell_type": "markdown",
      "metadata": {
        "id": "9vmVJmHEwCe-"
      },
      "source": [
        "### Implement the MLP-Mixer module"
      ]
    },
    {
      "cell_type": "code",
      "execution_count": null,
      "metadata": {
        "id": "VRUxY1PRwCe-"
      },
      "outputs": [],
      "source": [
        "\n",
        "class MLPMixerLayer(layers.Layer):\n",
        "    def __init__(self, num_patches, hidden_units, dropout_rate, *args, **kwargs):\n",
        "        super().__init__(*args, **kwargs)\n",
        "\n",
        "        self.mlp1 = keras.Sequential(\n",
        "            [\n",
        "                layers.Dense(units=num_patches),\n",
        "                tfa.layers.GELU(),\n",
        "                layers.Dense(units=num_patches),\n",
        "                layers.Dropout(rate=dropout_rate),\n",
        "            ]\n",
        "        )\n",
        "        self.mlp2 = keras.Sequential(\n",
        "            [\n",
        "                layers.Dense(units=num_patches),\n",
        "                tfa.layers.GELU(),\n",
        "                layers.Dense(units=embedding_dim),\n",
        "                layers.Dropout(rate=dropout_rate),\n",
        "            ]\n",
        "        )\n",
        "        self.normalize = layers.LayerNormalization(epsilon=1e-6)\n",
        "\n",
        "    def call(self, inputs):\n",
        "        # Apply layer normalization.\n",
        "        x = self.normalize(inputs)\n",
        "        # Transpose inputs from [num_batches, num_patches, hidden_units] to [num_batches, hidden_units, num_patches].\n",
        "        x_channels = tf.linalg.matrix_transpose(x)\n",
        "        # Apply mlp1 on each channel independently.\n",
        "        mlp1_outputs = self.mlp1(x_channels)\n",
        "        # Transpose mlp1_outputs from [num_batches, hidden_dim, num_patches] to [num_batches, num_patches, hidden_units].\n",
        "        mlp1_outputs = tf.linalg.matrix_transpose(mlp1_outputs)\n",
        "        # Add skip connection.\n",
        "        x = mlp1_outputs + inputs\n",
        "        # Apply layer normalization.\n",
        "        x_patches = self.normalize(x)\n",
        "        # Apply mlp2 on each patch independtenly.\n",
        "        mlp2_outputs = self.mlp2(x_patches)\n",
        "        # Add skip connection.\n",
        "        x = x + mlp2_outputs\n",
        "        return x\n"
      ]
    },
    {
      "cell_type": "markdown",
      "metadata": {
        "id": "A8Zo_rGjwCe-"
      },
      "source": [
        "### Build, train, and evaluate the MLP-Mixer model\n",
        "\n",
        "Note that training the model with the current settings on a V100 GPUs\n",
        "takes around 8 seconds per epoch."
      ]
    },
    {
      "cell_type": "code",
      "execution_count": null,
      "metadata": {
        "id": "gMa1WjvOwCe-",
        "colab": {
          "base_uri": "https://localhost:8080/"
        },
        "outputId": "1d304557-0fd6-4267-bf17-cb5a4276d715"
      },
      "outputs": [
        {
          "output_type": "stream",
          "name": "stdout",
          "text": [
            "Epoch 1/10\n",
            "352/352 [==============================] - 25s 58ms/step - loss: 3.8438 - acc: 0.1125 - top5-acc: 0.3245 - val_loss: 3.5198 - val_acc: 0.1602 - val_top5-acc: 0.4334 - lr: 0.0050\n",
            "Epoch 2/10\n",
            "352/352 [==============================] - 19s 54ms/step - loss: 3.3955 - acc: 0.1836 - top5-acc: 0.4588 - val_loss: 3.2897 - val_acc: 0.2090 - val_top5-acc: 0.4982 - lr: 0.0050\n",
            "Epoch 3/10\n",
            "352/352 [==============================] - 19s 54ms/step - loss: 3.1780 - acc: 0.2261 - top5-acc: 0.5145 - val_loss: 3.0318 - val_acc: 0.2602 - val_top5-acc: 0.5654 - lr: 0.0050\n",
            "Epoch 4/10\n",
            "352/352 [==============================] - 19s 54ms/step - loss: 3.0096 - acc: 0.2569 - top5-acc: 0.5578 - val_loss: 2.9515 - val_acc: 0.2792 - val_top5-acc: 0.5830 - lr: 0.0050\n",
            "Epoch 5/10\n",
            "352/352 [==============================] - 19s 55ms/step - loss: 2.8995 - acc: 0.2784 - top5-acc: 0.5843 - val_loss: 2.8198 - val_acc: 0.3020 - val_top5-acc: 0.6056 - lr: 0.0050\n",
            "Epoch 6/10\n",
            "352/352 [==============================] - 19s 54ms/step - loss: 2.8103 - acc: 0.2963 - top5-acc: 0.6045 - val_loss: 2.8171 - val_acc: 0.3120 - val_top5-acc: 0.6208 - lr: 0.0050\n",
            "Epoch 7/10\n",
            "352/352 [==============================] - 19s 54ms/step - loss: 2.7336 - acc: 0.3114 - top5-acc: 0.6219 - val_loss: 2.7690 - val_acc: 0.3206 - val_top5-acc: 0.6296 - lr: 0.0050\n",
            "Epoch 8/10\n",
            "352/352 [==============================] - 19s 53ms/step - loss: 2.6832 - acc: 0.3203 - top5-acc: 0.6373 - val_loss: 2.6571 - val_acc: 0.3390 - val_top5-acc: 0.6470 - lr: 0.0050\n",
            "Epoch 9/10\n",
            "352/352 [==============================] - 19s 54ms/step - loss: 2.6209 - acc: 0.3318 - top5-acc: 0.6469 - val_loss: 2.6906 - val_acc: 0.3290 - val_top5-acc: 0.6436 - lr: 0.0050\n",
            "Epoch 10/10\n",
            "352/352 [==============================] - 18s 52ms/step - loss: 2.5948 - acc: 0.3389 - top5-acc: 0.6533 - val_loss: 2.6749 - val_acc: 0.3394 - val_top5-acc: 0.6478 - lr: 0.0050\n",
            "313/313 [==============================] - 5s 15ms/step - loss: 2.6277 - acc: 0.3512 - top5-acc: 0.6637\n",
            "Test accuracy: 35.12%\n",
            "Test top 5 accuracy: 66.37%\n"
          ]
        }
      ],
      "source": [
        "mlpmixer_blocks = keras.Sequential(\n",
        "    [MLPMixerLayer(num_patches, embedding_dim, dropout_rate) for _ in range(num_blocks)]\n",
        ")\n",
        "learning_rate = 0.005\n",
        "mlpmixer_classifier = build_classifier(mlpmixer_blocks)\n",
        "history = run_experiment(mlpmixer_classifier)"
      ]
    },
    {
      "cell_type": "markdown",
      "metadata": {
        "id": "LyV90aiMwCe_"
      },
      "source": [
        "The MLP-Mixer model tends to have much less number of parameters compared\n",
        "to convolutional and transformer-based models, which leads to less training and\n",
        "serving computational cost.\n",
        "\n",
        "As mentioned in the [MLP-Mixer](https://arxiv.org/abs/2105.01601) paper,\n",
        "when pre-trained on large datasets, or with modern regularization schemes,\n",
        "the MLP-Mixer attains competitive scores to state-of-the-art models.\n",
        "You can obtain better results by increasing the embedding dimensions,\n",
        "increasing the number of mixer blocks, and training the model for longer.\n",
        "You may also try to increase the size of the input images and use different patch sizes."
      ]
    },
    {
      "cell_type": "markdown",
      "metadata": {
        "id": "jXfVYDZqwCe_"
      },
      "source": [
        "## The FNet model\n",
        "\n",
        "The FNet uses a similar block to the Transformer block. However, FNet replaces the self-attention layer\n",
        "in the Transformer block with a parameter-free 2D Fourier transformation layer:\n",
        "\n",
        "1. One 1D Fourier Transform is applied along the patches.\n",
        "2. One 1D Fourier Transform is applied along the channels."
      ]
    },
    {
      "cell_type": "markdown",
      "metadata": {
        "id": "2JBINvNzwCe_"
      },
      "source": [
        "### Implement the FNet module"
      ]
    },
    {
      "cell_type": "code",
      "execution_count": null,
      "metadata": {
        "id": "cJEt1i_vwCe_"
      },
      "outputs": [],
      "source": [
        "\n",
        "class FNetLayer(layers.Layer):\n",
        "    def __init__(self, num_patches, embedding_dim, dropout_rate, *args, **kwargs):\n",
        "        super().__init__(*args, **kwargs)\n",
        "\n",
        "        self.ffn = keras.Sequential(\n",
        "            [\n",
        "                layers.Dense(units=embedding_dim),\n",
        "                tfa.layers.GELU(),\n",
        "                layers.Dropout(rate=dropout_rate),\n",
        "                layers.Dense(units=embedding_dim),\n",
        "            ]\n",
        "        )\n",
        "\n",
        "        self.normalize1 = layers.LayerNormalization(epsilon=1e-6)\n",
        "        self.normalize2 = layers.LayerNormalization(epsilon=1e-6)\n",
        "\n",
        "    def call(self, inputs):\n",
        "        # Apply fourier transformations.\n",
        "        x = tf.cast(\n",
        "            tf.signal.fft2d(tf.cast(inputs, dtype=tf.dtypes.complex64)),\n",
        "            dtype=tf.dtypes.float32,\n",
        "        )\n",
        "        # Add skip connection.\n",
        "        x = x + inputs\n",
        "        # Apply layer normalization.\n",
        "        x = self.normalize1(x)\n",
        "        # Apply Feedfowrad network.\n",
        "        x_ffn = self.ffn(x)\n",
        "        # Add skip connection.\n",
        "        x = x + x_ffn\n",
        "        # Apply layer normalization.\n",
        "        return self.normalize2(x)\n"
      ]
    },
    {
      "cell_type": "markdown",
      "metadata": {
        "id": "Veu5piIUwCe_"
      },
      "source": [
        "### Build, train, and evaluate the FNet model\n",
        "\n",
        "Note that training the model with the current settings on a V100 GPUs\n",
        "takes around 8 seconds per epoch."
      ]
    },
    {
      "cell_type": "code",
      "execution_count": null,
      "metadata": {
        "id": "E-wzjsbTwCe_",
        "colab": {
          "base_uri": "https://localhost:8080/"
        },
        "outputId": "3880cddb-788b-4144-b559-eec3da16924e"
      },
      "outputs": [
        {
          "output_type": "stream",
          "name": "stderr",
          "text": [
            "WARNING:tensorflow:You are casting an input of type complex64 to an incompatible dtype float32.  This will discard the imaginary part and may not be what you intended.\n",
            "WARNING:tensorflow:You are casting an input of type complex64 to an incompatible dtype float32.  This will discard the imaginary part and may not be what you intended.\n",
            "WARNING:tensorflow:You are casting an input of type complex64 to an incompatible dtype float32.  This will discard the imaginary part and may not be what you intended.\n",
            "WARNING:tensorflow:You are casting an input of type complex64 to an incompatible dtype float32.  This will discard the imaginary part and may not be what you intended.\n",
            "WARNING:tensorflow:You are casting an input of type complex64 to an incompatible dtype float32.  This will discard the imaginary part and may not be what you intended.\n",
            "WARNING:tensorflow:You are casting an input of type complex64 to an incompatible dtype float32.  This will discard the imaginary part and may not be what you intended.\n",
            "WARNING:tensorflow:You are casting an input of type complex64 to an incompatible dtype float32.  This will discard the imaginary part and may not be what you intended.\n",
            "WARNING:tensorflow:You are casting an input of type complex64 to an incompatible dtype float32.  This will discard the imaginary part and may not be what you intended.\n"
          ]
        },
        {
          "output_type": "stream",
          "name": "stdout",
          "text": [
            "Epoch 1/10\n"
          ]
        },
        {
          "output_type": "stream",
          "name": "stderr",
          "text": [
            "WARNING:tensorflow:You are casting an input of type complex64 to an incompatible dtype float32.  This will discard the imaginary part and may not be what you intended.\n",
            "WARNING:tensorflow:You are casting an input of type complex64 to an incompatible dtype float32.  This will discard the imaginary part and may not be what you intended.\n",
            "WARNING:tensorflow:You are casting an input of type complex64 to an incompatible dtype float32.  This will discard the imaginary part and may not be what you intended.\n",
            "WARNING:tensorflow:You are casting an input of type complex64 to an incompatible dtype float32.  This will discard the imaginary part and may not be what you intended.\n",
            "WARNING:tensorflow:You are casting an input of type complex64 to an incompatible dtype float32.  This will discard the imaginary part and may not be what you intended.\n",
            "WARNING:tensorflow:You are casting an input of type complex64 to an incompatible dtype float32.  This will discard the imaginary part and may not be what you intended.\n",
            "WARNING:tensorflow:You are casting an input of type complex64 to an incompatible dtype float32.  This will discard the imaginary part and may not be what you intended.\n",
            "WARNING:tensorflow:You are casting an input of type complex64 to an incompatible dtype float32.  This will discard the imaginary part and may not be what you intended.\n",
            "WARNING:tensorflow:You are casting an input of type complex64 to an incompatible dtype float32.  This will discard the imaginary part and may not be what you intended.\n",
            "WARNING:tensorflow:You are casting an input of type complex64 to an incompatible dtype float32.  This will discard the imaginary part and may not be what you intended.\n",
            "WARNING:tensorflow:You are casting an input of type complex64 to an incompatible dtype float32.  This will discard the imaginary part and may not be what you intended.\n",
            "WARNING:tensorflow:You are casting an input of type complex64 to an incompatible dtype float32.  This will discard the imaginary part and may not be what you intended.\n",
            "WARNING:tensorflow:You are casting an input of type complex64 to an incompatible dtype float32.  This will discard the imaginary part and may not be what you intended.\n",
            "WARNING:tensorflow:You are casting an input of type complex64 to an incompatible dtype float32.  This will discard the imaginary part and may not be what you intended.\n",
            "WARNING:tensorflow:You are casting an input of type complex64 to an incompatible dtype float32.  This will discard the imaginary part and may not be what you intended.\n",
            "WARNING:tensorflow:You are casting an input of type complex64 to an incompatible dtype float32.  This will discard the imaginary part and may not be what you intended.\n"
          ]
        },
        {
          "output_type": "stream",
          "name": "stdout",
          "text": [
            "351/352 [============================>.] - ETA: 0s - loss: 4.1146 - acc: 0.0741 - top5-acc: 0.2331"
          ]
        },
        {
          "output_type": "stream",
          "name": "stderr",
          "text": [
            "WARNING:tensorflow:You are casting an input of type complex64 to an incompatible dtype float32.  This will discard the imaginary part and may not be what you intended.\n",
            "WARNING:tensorflow:You are casting an input of type complex64 to an incompatible dtype float32.  This will discard the imaginary part and may not be what you intended.\n",
            "WARNING:tensorflow:You are casting an input of type complex64 to an incompatible dtype float32.  This will discard the imaginary part and may not be what you intended.\n",
            "WARNING:tensorflow:You are casting an input of type complex64 to an incompatible dtype float32.  This will discard the imaginary part and may not be what you intended.\n"
          ]
        },
        {
          "output_type": "stream",
          "name": "stdout",
          "text": [
            "\b\b\b\b\b\b\b\b\b\b\b\b\b\b\b\b\b\b\b\b\b\b\b\b\b\b\b\b\b\b\b\b\b\b\b\b\b\b\b\b\b\b\b\b\b\b\b\b\b\b\b\b\b\b\b\b\b\b\b\b\b\b\b\b\b\b\b\b\b\b\b\b\b\b\b\b\b\b\b\b\b\b\b\b\b\b\b\b\b\b\b\b\b\b\b\b\b\b\r352/352 [==============================] - 24s 56ms/step - loss: 4.1141 - acc: 0.0741 - top5-acc: 0.2332 - val_loss: 3.8124 - val_acc: 0.1144 - val_top5-acc: 0.3232 - lr: 0.0010\n",
            "Epoch 2/10\n",
            "352/352 [==============================] - 18s 52ms/step - loss: 3.6922 - acc: 0.1327 - top5-acc: 0.3599 - val_loss: 3.5099 - val_acc: 0.1602 - val_top5-acc: 0.4140 - lr: 0.0010\n",
            "Epoch 3/10\n",
            "352/352 [==============================] - 19s 53ms/step - loss: 3.4431 - acc: 0.1726 - top5-acc: 0.4358 - val_loss: 3.3275 - val_acc: 0.1976 - val_top5-acc: 0.4596 - lr: 0.0010\n",
            "Epoch 4/10\n",
            "352/352 [==============================] - 19s 54ms/step - loss: 3.2514 - acc: 0.2075 - top5-acc: 0.4873 - val_loss: 3.1329 - val_acc: 0.2376 - val_top5-acc: 0.5124 - lr: 0.0010\n",
            "Epoch 5/10\n",
            "352/352 [==============================] - 19s 53ms/step - loss: 3.0990 - acc: 0.2364 - top5-acc: 0.5278 - val_loss: 3.0175 - val_acc: 0.2576 - val_top5-acc: 0.5434 - lr: 0.0010\n",
            "Epoch 6/10\n",
            "352/352 [==============================] - 18s 52ms/step - loss: 2.9853 - acc: 0.2576 - top5-acc: 0.5556 - val_loss: 2.9027 - val_acc: 0.2810 - val_top5-acc: 0.5806 - lr: 0.0010\n",
            "Epoch 7/10\n",
            "352/352 [==============================] - 19s 54ms/step - loss: 2.8870 - acc: 0.2783 - top5-acc: 0.5802 - val_loss: 2.8655 - val_acc: 0.2850 - val_top5-acc: 0.5886 - lr: 0.0010\n",
            "Epoch 8/10\n",
            "352/352 [==============================] - 19s 53ms/step - loss: 2.8251 - acc: 0.2872 - top5-acc: 0.5960 - val_loss: 2.7461 - val_acc: 0.3088 - val_top5-acc: 0.6192 - lr: 0.0010\n",
            "Epoch 9/10\n",
            "352/352 [==============================] - 19s 54ms/step - loss: 2.7560 - acc: 0.3008 - top5-acc: 0.6139 - val_loss: 2.6878 - val_acc: 0.3178 - val_top5-acc: 0.6306 - lr: 0.0010\n",
            "Epoch 10/10\n",
            "352/352 [==============================] - 19s 54ms/step - loss: 2.6980 - acc: 0.3139 - top5-acc: 0.6286 - val_loss: 2.6354 - val_acc: 0.3256 - val_top5-acc: 0.6438 - lr: 0.0010\n",
            "313/313 [==============================] - 3s 8ms/step - loss: 2.6149 - acc: 0.3274 - top5-acc: 0.6450\n",
            "Test accuracy: 32.74%\n",
            "Test top 5 accuracy: 64.5%\n"
          ]
        }
      ],
      "source": [
        "fnet_blocks = keras.Sequential(\n",
        "    [FNetLayer(num_patches, embedding_dim, dropout_rate) for _ in range(num_blocks)]\n",
        ")\n",
        "learning_rate = 0.001\n",
        "fnet_classifier = build_classifier(fnet_blocks, positional_encoding=True)\n",
        "history = run_experiment(fnet_classifier)"
      ]
    },
    {
      "cell_type": "markdown",
      "metadata": {
        "id": "5LgBpMvvwCfA"
      },
      "source": [
        "As shown in the [FNet](https://arxiv.org/abs/2105.03824) paper,\n",
        "better results can be achieved by increasing the embedding dimensions,\n",
        "increasing the number of FNet blocks, and training the model for longer.\n",
        "You may also try to increase the size of the input images and use different patch sizes.\n",
        "The FNet scales very efficiently to long inputs, runs much faster than attention-based\n",
        "Transformer models, and produces competitive accuracy results."
      ]
    },
    {
      "cell_type": "markdown",
      "metadata": {
        "id": "njzaL_Z0wCfA"
      },
      "source": [
        "## The gMLP model\n",
        "\n",
        "The gMLP is a MLP architecture that features a Spatial Gating Unit (SGU).\n",
        "The SGU enables cross-patch interactions across the spatial (channel) dimension, by:\n",
        "\n",
        "1. Transforming the input spatially by applying linear projection across patches (along channels).\n",
        "2. Applying element-wise multiplication of the input and its spatial transformation."
      ]
    },
    {
      "cell_type": "markdown",
      "metadata": {
        "id": "4Je6s9-HwCfA"
      },
      "source": [
        "### Implement the gMLP module"
      ]
    },
    {
      "cell_type": "code",
      "execution_count": null,
      "metadata": {
        "id": "dxPRU64MwCfA"
      },
      "outputs": [],
      "source": [
        "\n",
        "class gMLPLayer(layers.Layer):\n",
        "    def __init__(self, num_patches, embedding_dim, dropout_rate, *args, **kwargs):\n",
        "        super().__init__(*args, **kwargs)\n",
        "\n",
        "        self.channel_projection1 = keras.Sequential(\n",
        "            [\n",
        "                layers.Dense(units=embedding_dim * 2),\n",
        "                tfa.layers.GELU(),\n",
        "                layers.Dropout(rate=dropout_rate),\n",
        "            ]\n",
        "        )\n",
        "\n",
        "        self.channel_projection2 = layers.Dense(units=embedding_dim)\n",
        "\n",
        "        self.spatial_projection = layers.Dense(\n",
        "            units=num_patches, bias_initializer=\"Ones\"\n",
        "        )\n",
        "\n",
        "        self.normalize1 = layers.LayerNormalization(epsilon=1e-6)\n",
        "        self.normalize2 = layers.LayerNormalization(epsilon=1e-6)\n",
        "\n",
        "    def spatial_gating_unit(self, x):\n",
        "        # Split x along the channel dimensions.\n",
        "        # Tensors u and v will in th shape of [batch_size, num_patchs, embedding_dim].\n",
        "        u, v = tf.split(x, num_or_size_splits=2, axis=2)\n",
        "        # Apply layer normalization.\n",
        "        v = self.normalize2(v)\n",
        "        # Apply spatial projection.\n",
        "        v_channels = tf.linalg.matrix_transpose(v)\n",
        "        v_projected = self.spatial_projection(v_channels)\n",
        "        v_projected = tf.linalg.matrix_transpose(v_projected)\n",
        "        # Apply element-wise multiplication.\n",
        "        return u * v_projected\n",
        "\n",
        "    def call(self, inputs):\n",
        "        # Apply layer normalization.\n",
        "        x = self.normalize1(inputs)\n",
        "        # Apply the first channel projection. x_projected shape: [batch_size, num_patches, embedding_dim * 2].\n",
        "        x_projected = self.channel_projection1(x)\n",
        "        # Apply the spatial gating unit. x_spatial shape: [batch_size, num_patches, embedding_dim].\n",
        "        x_spatial = self.spatial_gating_unit(x_projected)\n",
        "        # Apply the second channel projection. x_projected shape: [batch_size, num_patches, embedding_dim].\n",
        "        x_projected = self.channel_projection2(x_spatial)\n",
        "        # Add skip connection.\n",
        "        return x + x_projected\n"
      ]
    },
    {
      "cell_type": "markdown",
      "metadata": {
        "id": "GjTV0os2wCfA"
      },
      "source": [
        "### Build, train, and evaluate the gMLP model\n",
        "\n",
        "Note that training the model with the current settings on a V100 GPUs\n",
        "takes around 9 seconds per epoch."
      ]
    },
    {
      "cell_type": "code",
      "execution_count": null,
      "metadata": {
        "id": "6xY-ps0XwCfA",
        "colab": {
          "base_uri": "https://localhost:8080/"
        },
        "outputId": "1caa1e5b-0153-4a64-ba96-c9b092a9415c"
      },
      "outputs": [
        {
          "output_type": "stream",
          "name": "stdout",
          "text": [
            "Epoch 1/10\n",
            "352/352 [==============================] - 28s 68ms/step - loss: 3.9352 - acc: 0.0965 - top5-acc: 0.2910 - val_loss: 3.5071 - val_acc: 0.1640 - val_top5-acc: 0.4162 - lr: 0.0030\n",
            "Epoch 2/10\n",
            "352/352 [==============================] - 23s 66ms/step - loss: 3.4738 - acc: 0.1675 - top5-acc: 0.4292 - val_loss: 3.2971 - val_acc: 0.1946 - val_top5-acc: 0.4854 - lr: 0.0030\n",
            "Epoch 3/10\n",
            "352/352 [==============================] - 23s 65ms/step - loss: 3.2676 - acc: 0.2032 - top5-acc: 0.4861 - val_loss: 3.1280 - val_acc: 0.2314 - val_top5-acc: 0.5218 - lr: 0.0030\n",
            "Epoch 4/10\n",
            "352/352 [==============================] - 23s 65ms/step - loss: 3.0926 - acc: 0.2374 - top5-acc: 0.5312 - val_loss: 2.9382 - val_acc: 0.2648 - val_top5-acc: 0.5766 - lr: 0.0030\n",
            "Epoch 5/10\n",
            "352/352 [==============================] - 23s 65ms/step - loss: 2.9460 - acc: 0.2636 - top5-acc: 0.5711 - val_loss: 2.8386 - val_acc: 0.2900 - val_top5-acc: 0.5978 - lr: 0.0030\n",
            "Epoch 6/10\n",
            "352/352 [==============================] - 23s 65ms/step - loss: 2.8445 - acc: 0.2855 - top5-acc: 0.5931 - val_loss: 2.7708 - val_acc: 0.3088 - val_top5-acc: 0.6124 - lr: 0.0030\n",
            "Epoch 7/10\n",
            "352/352 [==============================] - 23s 65ms/step - loss: 2.7559 - acc: 0.3021 - top5-acc: 0.6127 - val_loss: 2.7042 - val_acc: 0.3242 - val_top5-acc: 0.6304 - lr: 0.0030\n",
            "Epoch 8/10\n",
            "352/352 [==============================] - 23s 64ms/step - loss: 2.6762 - acc: 0.3186 - top5-acc: 0.6315 - val_loss: 2.7017 - val_acc: 0.3220 - val_top5-acc: 0.6366 - lr: 0.0030\n",
            "Epoch 9/10\n",
            "352/352 [==============================] - 23s 65ms/step - loss: 2.6108 - acc: 0.3308 - top5-acc: 0.6474 - val_loss: 2.6082 - val_acc: 0.3414 - val_top5-acc: 0.6516 - lr: 0.0030\n",
            "Epoch 10/10\n",
            "352/352 [==============================] - 23s 64ms/step - loss: 2.5368 - acc: 0.3462 - top5-acc: 0.6630 - val_loss: 2.5659 - val_acc: 0.3530 - val_top5-acc: 0.6614 - lr: 0.0030\n",
            "313/313 [==============================] - 4s 13ms/step - loss: 2.5143 - acc: 0.3668 - top5-acc: 0.6706\n",
            "Test accuracy: 36.68%\n",
            "Test top 5 accuracy: 67.06%\n"
          ]
        }
      ],
      "source": [
        "gmlp_blocks = keras.Sequential(\n",
        "    [gMLPLayer(num_patches, embedding_dim, dropout_rate) for _ in range(num_blocks)]\n",
        ")\n",
        "learning_rate = 0.003\n",
        "gmlp_classifier = build_classifier(gmlp_blocks)\n",
        "history = run_experiment(gmlp_classifier)"
      ]
    }
  ],
  "metadata": {
    "accelerator": "GPU",
    "colab": {
      "provenance": [],
      "include_colab_link": true
    },
    "kernelspec": {
      "display_name": "Python 3",
      "language": "python",
      "name": "python3"
    },
    "language_info": {
      "codemirror_mode": {
        "name": "ipython",
        "version": 3
      },
      "file_extension": ".py",
      "mimetype": "text/x-python",
      "name": "python",
      "nbconvert_exporter": "python",
      "pygments_lexer": "ipython3",
      "version": "3.7.0"
    }
  },
  "nbformat": 4,
  "nbformat_minor": 0
}